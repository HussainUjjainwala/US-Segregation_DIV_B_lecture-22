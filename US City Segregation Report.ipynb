{
 "cells": [
  {
   "cell_type": "markdown",
   "id": "aa44de6a",
   "metadata": {},
   "source": [
    "# Racial Segregation In US Cities\n",
    "**Hussain Ujjainwala | Div B**"
   ]
  },
  {
   "cell_type": "code",
   "execution_count": 3,
   "id": "ffde7f5c",
   "metadata": {},
   "outputs": [],
   "source": [
    "# Project Setup\n",
    "import pandas as pd"
   ]
  },
  {
   "cell_type": "code",
   "execution_count": 5,
   "id": "fc3a1324",
   "metadata": {},
   "outputs": [
    {
     "data": {
      "text/html": [
       "<div>\n",
       "<style scoped>\n",
       "    .dataframe tbody tr th:only-of-type {\n",
       "        vertical-align: middle;\n",
       "    }\n",
       "\n",
       "    .dataframe tbody tr th {\n",
       "        vertical-align: top;\n",
       "    }\n",
       "\n",
       "    .dataframe thead th {\n",
       "        text-align: right;\n",
       "    }\n",
       "</style>\n",
       "<table border=\"1\" class=\"dataframe\">\n",
       "  <thead>\n",
       "    <tr style=\"text-align: right;\">\n",
       "      <th></th>\n",
       "      <th>GEOID</th>\n",
       "      <th>GEO.display.label</th>\n",
       "      <th>pop</th>\n",
       "      <th>pop.white</th>\n",
       "      <th>pop.not.white</th>\n",
       "      <th>pct.white</th>\n",
       "      <th>pct.not.white</th>\n",
       "    </tr>\n",
       "  </thead>\n",
       "  <tbody>\n",
       "    <tr>\n",
       "      <th>0</th>\n",
       "      <td>17031010201</td>\n",
       "      <td>17031010201</td>\n",
       "      <td>6450</td>\n",
       "      <td>2312</td>\n",
       "      <td>4138</td>\n",
       "      <td>0.358450</td>\n",
       "      <td>0.641550</td>\n",
       "    </tr>\n",
       "    <tr>\n",
       "      <th>1</th>\n",
       "      <td>17031010202</td>\n",
       "      <td>17031010202</td>\n",
       "      <td>2818</td>\n",
       "      <td>1237</td>\n",
       "      <td>1581</td>\n",
       "      <td>0.438964</td>\n",
       "      <td>0.561036</td>\n",
       "    </tr>\n",
       "    <tr>\n",
       "      <th>2</th>\n",
       "      <td>17031010300</td>\n",
       "      <td>17031010300</td>\n",
       "      <td>6236</td>\n",
       "      <td>3267</td>\n",
       "      <td>2969</td>\n",
       "      <td>0.523894</td>\n",
       "      <td>0.476106</td>\n",
       "    </tr>\n",
       "    <tr>\n",
       "      <th>3</th>\n",
       "      <td>17031010400</td>\n",
       "      <td>17031010400</td>\n",
       "      <td>5042</td>\n",
       "      <td>3341</td>\n",
       "      <td>1701</td>\n",
       "      <td>0.662634</td>\n",
       "      <td>0.337366</td>\n",
       "    </tr>\n",
       "    <tr>\n",
       "      <th>4</th>\n",
       "      <td>17031010503</td>\n",
       "      <td>17031010503</td>\n",
       "      <td>2290</td>\n",
       "      <td>1452</td>\n",
       "      <td>838</td>\n",
       "      <td>0.634061</td>\n",
       "      <td>0.365939</td>\n",
       "    </tr>\n",
       "    <tr>\n",
       "      <th>...</th>\n",
       "      <td>...</td>\n",
       "      <td>...</td>\n",
       "      <td>...</td>\n",
       "      <td>...</td>\n",
       "      <td>...</td>\n",
       "      <td>...</td>\n",
       "      <td>...</td>\n",
       "    </tr>\n",
       "    <tr>\n",
       "      <th>95</th>\n",
       "      <td>17031090300</td>\n",
       "      <td>17031090300</td>\n",
       "      <td>1372</td>\n",
       "      <td>1290</td>\n",
       "      <td>82</td>\n",
       "      <td>0.940233</td>\n",
       "      <td>0.059767</td>\n",
       "    </tr>\n",
       "    <tr>\n",
       "      <th>96</th>\n",
       "      <td>17031100100</td>\n",
       "      <td>17031100100</td>\n",
       "      <td>5313</td>\n",
       "      <td>4649</td>\n",
       "      <td>664</td>\n",
       "      <td>0.875024</td>\n",
       "      <td>0.124976</td>\n",
       "    </tr>\n",
       "    <tr>\n",
       "      <th>97</th>\n",
       "      <td>17031100200</td>\n",
       "      <td>17031100200</td>\n",
       "      <td>6749</td>\n",
       "      <td>6216</td>\n",
       "      <td>533</td>\n",
       "      <td>0.921025</td>\n",
       "      <td>0.078975</td>\n",
       "    </tr>\n",
       "    <tr>\n",
       "      <th>98</th>\n",
       "      <td>17031100400</td>\n",
       "      <td>17031100400</td>\n",
       "      <td>3066</td>\n",
       "      <td>2792</td>\n",
       "      <td>274</td>\n",
       "      <td>0.910633</td>\n",
       "      <td>0.089367</td>\n",
       "    </tr>\n",
       "    <tr>\n",
       "      <th>99</th>\n",
       "      <td>17031100500</td>\n",
       "      <td>17031100500</td>\n",
       "      <td>5779</td>\n",
       "      <td>5083</td>\n",
       "      <td>696</td>\n",
       "      <td>0.879564</td>\n",
       "      <td>0.120436</td>\n",
       "    </tr>\n",
       "  </tbody>\n",
       "</table>\n",
       "<p>100 rows × 7 columns</p>\n",
       "</div>"
      ],
      "text/plain": [
       "          GEOID  GEO.display.label   pop  pop.white  pop.not.white  pct.white  \\\n",
       "0   17031010201        17031010201  6450       2312           4138   0.358450   \n",
       "1   17031010202        17031010202  2818       1237           1581   0.438964   \n",
       "2   17031010300        17031010300  6236       3267           2969   0.523894   \n",
       "3   17031010400        17031010400  5042       3341           1701   0.662634   \n",
       "4   17031010503        17031010503  2290       1452            838   0.634061   \n",
       "..          ...                ...   ...        ...            ...        ...   \n",
       "95  17031090300        17031090300  1372       1290             82   0.940233   \n",
       "96  17031100100        17031100100  5313       4649            664   0.875024   \n",
       "97  17031100200        17031100200  6749       6216            533   0.921025   \n",
       "98  17031100400        17031100400  3066       2792            274   0.910633   \n",
       "99  17031100500        17031100500  5779       5083            696   0.879564   \n",
       "\n",
       "    pct.not.white  \n",
       "0        0.641550  \n",
       "1        0.561036  \n",
       "2        0.476106  \n",
       "3        0.337366  \n",
       "4        0.365939  \n",
       "..            ...  \n",
       "95       0.059767  \n",
       "96       0.124976  \n",
       "97       0.078975  \n",
       "98       0.089367  \n",
       "99       0.120436  \n",
       "\n",
       "[100 rows x 7 columns]"
      ]
     },
     "execution_count": 5,
     "metadata": {},
     "output_type": "execute_result"
    }
   ],
   "source": [
    " # Getting the file \n",
    "chicago_df = pd.read_csv(\"data/prepped/chicago_race.csv\")\n",
    "# Printing the first 5 rows\n",
    "chicago_df.head(50)"
   ]
  },
  {
   "cell_type": "markdown",
   "id": "04543867",
   "metadata": {},
   "source": [
    "# Diversity Ratio"
   ]
  },
  {
   "cell_type": "code",
   "execution_count": 13,
   "id": "2a135efd",
   "metadata": {},
   "outputs": [
    {
     "name": "stdout",
     "output_type": "stream",
     "text": [
      "There are 2513996 white people\n",
      "There are 2134618 non white people\n",
      "The Diversity Ratio is 1.1777264128757463\n"
     ]
    }
   ],
   "source": [
    "total_white_people = chicago_df[\"pop.white\"].sum()\n",
    "print (\"There are\", total_white_people, \"white people\")\n",
    "\n",
    "total_non_white_people = chicago_df[\"pop.not.white\"].sum()\n",
    "print (\"There are\", total_non_white_people, \"non white people\")\n",
    "\n",
    "diversity_ratio = total_white_people/total_non_white_people\n",
    "print (\"The Diversity Ratio is\",diversity_ratio )"
   ]
  },
  {
   "cell_type": "markdown",
   "id": "da5f336e",
   "metadata": {},
   "source": [
    "# Measuring Chicago's Interaction Index\n"
   ]
  },
  {
   "cell_type": "code",
   "execution_count": 11,
   "id": "a64d1ee7",
   "metadata": {},
   "outputs": [
    {
     "data": {
      "text/html": [
       "<div>\n",
       "<style scoped>\n",
       "    .dataframe tbody tr th:only-of-type {\n",
       "        vertical-align: middle;\n",
       "    }\n",
       "\n",
       "    .dataframe tbody tr th {\n",
       "        vertical-align: top;\n",
       "    }\n",
       "\n",
       "    .dataframe thead th {\n",
       "        text-align: right;\n",
       "    }\n",
       "</style>\n",
       "<table border=\"1\" class=\"dataframe\">\n",
       "  <thead>\n",
       "    <tr style=\"text-align: right;\">\n",
       "      <th></th>\n",
       "      <th>GEOID</th>\n",
       "      <th>GEO.display.label</th>\n",
       "      <th>pop</th>\n",
       "      <th>pop.white</th>\n",
       "      <th>pop.not.white</th>\n",
       "      <th>pct.white</th>\n",
       "      <th>pct.not.white</th>\n",
       "      <th>interaction_index</th>\n",
       "    </tr>\n",
       "  </thead>\n",
       "  <tbody>\n",
       "    <tr>\n",
       "      <th>0</th>\n",
       "      <td>17031010201</td>\n",
       "      <td>17031010201</td>\n",
       "      <td>6450</td>\n",
       "      <td>2312</td>\n",
       "      <td>4138</td>\n",
       "      <td>0.358450</td>\n",
       "      <td>0.641550</td>\n",
       "      <td>0.000695</td>\n",
       "    </tr>\n",
       "    <tr>\n",
       "      <th>1</th>\n",
       "      <td>17031010202</td>\n",
       "      <td>17031010202</td>\n",
       "      <td>2818</td>\n",
       "      <td>1237</td>\n",
       "      <td>1581</td>\n",
       "      <td>0.438964</td>\n",
       "      <td>0.561036</td>\n",
       "      <td>0.000325</td>\n",
       "    </tr>\n",
       "    <tr>\n",
       "      <th>2</th>\n",
       "      <td>17031010300</td>\n",
       "      <td>17031010300</td>\n",
       "      <td>6236</td>\n",
       "      <td>3267</td>\n",
       "      <td>2969</td>\n",
       "      <td>0.523894</td>\n",
       "      <td>0.476106</td>\n",
       "      <td>0.000729</td>\n",
       "    </tr>\n",
       "    <tr>\n",
       "      <th>3</th>\n",
       "      <td>17031010400</td>\n",
       "      <td>17031010400</td>\n",
       "      <td>5042</td>\n",
       "      <td>3341</td>\n",
       "      <td>1701</td>\n",
       "      <td>0.662634</td>\n",
       "      <td>0.337366</td>\n",
       "      <td>0.000528</td>\n",
       "    </tr>\n",
       "    <tr>\n",
       "      <th>4</th>\n",
       "      <td>17031010503</td>\n",
       "      <td>17031010503</td>\n",
       "      <td>2290</td>\n",
       "      <td>1452</td>\n",
       "      <td>838</td>\n",
       "      <td>0.634061</td>\n",
       "      <td>0.365939</td>\n",
       "      <td>0.000249</td>\n",
       "    </tr>\n",
       "  </tbody>\n",
       "</table>\n",
       "</div>"
      ],
      "text/plain": [
       "         GEOID  GEO.display.label   pop  pop.white  pop.not.white  pct.white  \\\n",
       "0  17031010201        17031010201  6450       2312           4138   0.358450   \n",
       "1  17031010202        17031010202  2818       1237           1581   0.438964   \n",
       "2  17031010300        17031010300  6236       3267           2969   0.523894   \n",
       "3  17031010400        17031010400  5042       3341           1701   0.662634   \n",
       "4  17031010503        17031010503  2290       1452            838   0.634061   \n",
       "\n",
       "   pct.not.white  interaction_index  \n",
       "0       0.641550           0.000695  \n",
       "1       0.561036           0.000325  \n",
       "2       0.476106           0.000729  \n",
       "3       0.337366           0.000528  \n",
       "4       0.365939           0.000249  "
      ]
     },
     "execution_count": 11,
     "metadata": {},
     "output_type": "execute_result"
    }
   ],
   "source": [
    "total_minority_pop = chicago_df[\"pop.not.white\"].sum()\n",
    "\n",
    "chicago_df[\"interaction_index\"] = (chicago_df[\"pop.not.white\"]/total_minority_pop) * (chicago_df[\"pop.white\"]/chicago_df[\"pop\"])\n",
    "\n",
    "chicago_df.head()"
   ]
  },
  {
   "cell_type": "code",
   "execution_count": null,
   "id": "3ef7c157",
   "metadata": {},
   "outputs": [],
   "source": []
  },
  {
   "cell_type": "code",
   "execution_count": 12,
   "id": "be771220",
   "metadata": {},
   "outputs": [
    {
     "data": {
      "text/plain": [
       "0.33621530101878605"
      ]
     },
     "execution_count": 12,
     "metadata": {},
     "output_type": "execute_result"
    }
   ],
   "source": [
    "interaction_index_of_chicago = chicago_df[\"interaction_index\"].sum()\n",
    "interaction_index_of_chicago"
   ]
  },
  {
   "cell_type": "markdown",
   "id": "0b8ebd43",
   "metadata": {},
   "source": [
    "# Calculate the Interaction Index for All US Cities"
   ]
  },
  {
   "cell_type": "code",
   "execution_count": 14,
   "id": "5ef4d1c6",
   "metadata": {},
   "outputs": [],
   "source": [
    "import os"
   ]
  },
  {
   "cell_type": "code",
   "execution_count": 15,
   "id": "d872e2eb",
   "metadata": {},
   "outputs": [
    {
     "data": {
      "text/plain": [
       "['baltimore_race.csv',\n",
       " 'charleston_race.csv',\n",
       " 'chicago_race.csv',\n",
       " 'columbus_race.csv',\n",
       " 'dayton_race.csv',\n",
       " 'denver_race.csv',\n",
       " 'kc_race.csv',\n",
       " 'memphis_race.csv',\n",
       " 'milwaukee_race.csv',\n",
       " 'ok_city_race.csv',\n",
       " 'pittsburgh_race.csv',\n",
       " 'st_louis_race.csv',\n",
       " 'syracuse_race.csv',\n",
       " 'wichita_race.csv']"
      ]
     },
     "execution_count": 15,
     "metadata": {},
     "output_type": "execute_result"
    }
   ],
   "source": [
    "city_file_name_list = os.listdir(\"data/prepped/\")\n",
    "city_file_name_list"
   ]
  },
  {
   "cell_type": "code",
   "execution_count": 28,
   "id": "cc44dc97",
   "metadata": {},
   "outputs": [],
   "source": [
    "def print_interaction_indexes():\n",
    "    \n",
    "    city_file_name_list = os.listdir(\"data/prepped/\")\n",
    "    \n",
    "    for city_file_name in city_file_name_list:\n",
    "        \n",
    "        city_df = pd.read_csv(\"data/prepped/\"+city_file_name)\n",
    "        \n",
    "        total_minority_pop = city_df[\"pop.not.white\"].sum()\n",
    "        \n",
    "        city_df[\"interaction_index\"] = (city_df[\"pop.not.white\"]/total_minority_pop) * (city_df[\"pop.white\"]/city_df[\"pop\"])\n",
    "        \n",
    "        interaction_index_of_chicago = city_df[\"interaction_index\"].sum()\n",
    "        \n",
    "        print(city_file_name.capitalize().replace(\"_race.csv\", \"\"), \" : \", interaction_index_of_chicago)\n",
    "        "
   ]
  },
  {
   "cell_type": "code",
   "execution_count": 29,
   "id": "1ca54629",
   "metadata": {},
   "outputs": [
    {
     "name": "stdout",
     "output_type": "stream",
     "text": [
      "Baltimore  :  0.21709369506053244\n",
      "Charleston  :  0.5181057467459754\n",
      "Chicago  :  0.33621530101878605\n",
      "Columbus  :  0.5370267887655849\n",
      "Dayton  :  0.5072699799837672\n",
      "Denver  :  0.6852801607490661\n",
      "Kc  :  0.5806694539317967\n",
      "Memphis  :  0.4811953882784695\n",
      "Milwaukee  :  0.40424141689420257\n",
      "Ok_city  :  0.6134720843684374\n",
      "Pittsburgh  :  0.602965687041454\n",
      "St_louis  :  0.4204527865157873\n",
      "Syracuse  :  0.606170839777443\n",
      "Wichita  :  0.639562420122306\n"
     ]
    }
   ],
   "source": [
    "print_interaction_indexes()"
   ]
  },
  {
   "cell_type": "code",
   "execution_count": null,
   "id": "ceb28093",
   "metadata": {},
   "outputs": [],
   "source": []
  },
  {
   "cell_type": "code",
   "execution_count": null,
   "id": "197a3547",
   "metadata": {},
   "outputs": [],
   "source": []
  }
 ],
 "metadata": {
  "kernelspec": {
   "display_name": "Python 3",
   "language": "python",
   "name": "python3"
  },
  "language_info": {
   "codemirror_mode": {
    "name": "ipython",
    "version": 3
   },
   "file_extension": ".py",
   "mimetype": "text/x-python",
   "name": "python",
   "nbconvert_exporter": "python",
   "pygments_lexer": "ipython3",
   "version": "3.8.8"
  }
 },
 "nbformat": 4,
 "nbformat_minor": 5
}
